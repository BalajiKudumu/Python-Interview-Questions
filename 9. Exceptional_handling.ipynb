{
 "cells": [
  {
   "cell_type": "markdown",
   "id": "6a8adfa8",
   "metadata": {},
   "source": [
    "## Exceptions handling"
   ]
  },
  {
   "cell_type": "code",
   "execution_count": 1,
   "id": "25cff66f",
   "metadata": {},
   "outputs": [
    {
     "name": "stdout",
     "output_type": "stream",
     "text": [
      "Division by zero is not allowed!\n"
     ]
    }
   ],
   "source": [
    "# Handle divide by zero\n",
    "try:\n",
    "    a = 10\n",
    "    b = 0\n",
    "    print(a / b)\n",
    "except ZeroDivisionError:\n",
    "    print(\"Division by zero is not allowed!\")\n",
    "\n",
    "\n"
   ]
  },
  {
   "cell_type": "code",
   "execution_count": 3,
   "id": "a3573195",
   "metadata": {},
   "outputs": [
    {
     "name": "stdout",
     "output_type": "stream",
     "text": [
      "Invalid input. Please enter a number.\n"
     ]
    }
   ],
   "source": [
    "\n",
    "# Handle invalid input\n",
    "try:\n",
    "    n = int(input(\"Enter a number: \"))\n",
    "    print(\"You entered:\", n)\n",
    "except ValueError:\n",
    "    print(\"Invalid input. Please enter a number.\")\n"
   ]
  },
  {
   "cell_type": "code",
   "execution_count": null,
   "id": "9cda7021",
   "metadata": {},
   "outputs": [],
   "source": []
  },
  {
   "cell_type": "code",
   "execution_count": null,
   "id": "93806214",
   "metadata": {},
   "outputs": [],
   "source": []
  }
 ],
 "metadata": {
  "kernelspec": {
   "display_name": "myvenv",
   "language": "python",
   "name": "python3"
  },
  "language_info": {
   "codemirror_mode": {
    "name": "ipython",
    "version": 3
   },
   "file_extension": ".py",
   "mimetype": "text/x-python",
   "name": "python",
   "nbconvert_exporter": "python",
   "pygments_lexer": "ipython3",
   "version": "3.9.13"
  }
 },
 "nbformat": 4,
 "nbformat_minor": 5
}
