{
 "cells": [
  {
   "cell_type": "markdown",
   "id": "7569bd63",
   "metadata": {},
   "source": [
    "## 4. Lists"
   ]
  },
  {
   "cell_type": "code",
   "execution_count": 1,
   "id": "0a3c06a1",
   "metadata": {},
   "outputs": [
    {
     "name": "stdout",
     "output_type": "stream",
     "text": [
      "Sum: 10\n"
     ]
    }
   ],
   "source": [
    "# Sum of elements in list.\n",
    "lst = [1, 2, 3, 4]\n",
    "print(\"Sum:\", sum(lst))"
   ]
  },
  {
   "cell_type": "code",
   "execution_count": 2,
   "id": "534f2d63",
   "metadata": {},
   "outputs": [
    {
     "name": "stdout",
     "output_type": "stream",
     "text": [
      "[9, 5, 2, 1]\n"
     ]
    }
   ],
   "source": [
    "# Sort list in descending order\n",
    "lst = [5, 2, 9, 1]\n",
    "lst.sort(reverse=True)\n",
    "print(lst)"
   ]
  },
  {
   "cell_type": "code",
   "execution_count": 3,
   "id": "4942d4ed",
   "metadata": {},
   "outputs": [
    {
     "name": "stdout",
     "output_type": "stream",
     "text": [
      "Largest: 20\n"
     ]
    }
   ],
   "source": [
    "# Find the largest element in a list.\n",
    "lst = [10, 5, 20, 8]\n",
    "largest = lst[0]\n",
    "for num in lst:\n",
    "    if num > largest:\n",
    "        largest = num\n",
    "print(\"Largest:\", largest)\n"
   ]
  },
  {
   "cell_type": "code",
   "execution_count": 4,
   "id": "6e968308",
   "metadata": {},
   "outputs": [
    {
     "name": "stdout",
     "output_type": "stream",
     "text": [
      "Reversed: [4, 3, 2, 1]\n"
     ]
    }
   ],
   "source": [
    "# Reverse a list without using reverse().\n",
    "lst = [1, 2, 3, 4]\n",
    "reversed_lst = lst[::-1]\n",
    "print(\"Reversed:\", reversed_lst)"
   ]
  },
  {
   "cell_type": "code",
   "execution_count": 5,
   "id": "25efd4b6",
   "metadata": {},
   "outputs": [
    {
     "name": "stdout",
     "output_type": "stream",
     "text": [
      "Average: 20.0\n"
     ]
    }
   ],
   "source": [
    "\n",
    "# Find average of numbers\n",
    "lst = [10, 20, 30]\n",
    "avg = sum(lst) / len(lst)\n",
    "print(\"Average:\", avg)\n"
   ]
  },
  {
   "cell_type": "code",
   "execution_count": 6,
   "id": "027a69c7",
   "metadata": {},
   "outputs": [
    {
     "name": "stdout",
     "output_type": "stream",
     "text": [
      "Unique elements: [1, 3, 5]\n"
     ]
    }
   ],
   "source": [
    "\n",
    "# ind unique elements in a list\n",
    "lst = [1, 2, 2, 3, 4, 4, 5]\n",
    "unique = []\n",
    "for item in lst:\n",
    "    if lst.count(item) == 1:\n",
    "        unique.append(item)\n",
    "print(\"Unique elements:\", unique)"
   ]
  },
  {
   "cell_type": "code",
   "execution_count": 7,
   "id": "70c97d26",
   "metadata": {},
   "outputs": [
    {
     "name": "stdout",
     "output_type": "stream",
     "text": [
      "[1, 4, 9, 16, 25, 36, 49, 64, 81, 100]\n"
     ]
    }
   ],
   "source": [
    "# List Comprehensions\n",
    "# Generate list of squares from 1 to 10\n",
    "squares = [x**2 for x in range(1, 11)]\n",
    "print(squares)"
   ]
  },
  {
   "cell_type": "code",
   "execution_count": 8,
   "id": "5547983f",
   "metadata": {},
   "outputs": [
    {
     "name": "stdout",
     "output_type": "stream",
     "text": [
      "[2, 4, 6]\n"
     ]
    }
   ],
   "source": [
    "# Extract even numbers from list\n",
    "lst = [1, 2, 3, 4, 5, 6]\n",
    "evens = [x for x in lst if x % 2 == 0]\n",
    "print(evens)"
   ]
  },
  {
   "cell_type": "code",
   "execution_count": 9,
   "id": "f1327e0d",
   "metadata": {},
   "outputs": [
    {
     "name": "stdout",
     "output_type": "stream",
     "text": [
      "Sorted\n"
     ]
    }
   ],
   "source": [
    "# Check if list is sorted\n",
    "lst = [1, 2, 3, 4]\n",
    "if lst == sorted(lst):\n",
    "    print(\"Sorted\")\n",
    "else:\n",
    "    print(\"Not sorted\")"
   ]
  },
  {
   "cell_type": "code",
   "execution_count": 10,
   "id": "41c356f9",
   "metadata": {},
   "outputs": [
    {
     "name": "stdout",
     "output_type": "stream",
     "text": [
      "Second largest: 15\n"
     ]
    }
   ],
   "source": [
    "# Find second largest number\n",
    "lst = [10, 20, 15, 5]\n",
    "first, second = float('-inf'), float('-inf')\n",
    "for num in lst:\n",
    "    if num > first:\n",
    "        second = first\n",
    "        first = num\n",
    "    elif num > second and num != first:\n",
    "        second = num\n",
    "print(\"Second largest:\", second)"
   ]
  },
  {
   "cell_type": "code",
   "execution_count": 11,
   "id": "f727620c",
   "metadata": {},
   "outputs": [
    {
     "name": "stdout",
     "output_type": "stream",
     "text": [
      "*x*mpl*\n"
     ]
    }
   ],
   "source": [
    "\n",
    "# Replace vowels with * in string\n",
    "s = \"example\"\n",
    "result = ''.join(['*' if ch in 'aeiouAEIOU' else ch for ch in s])\n",
    "print(result)\n"
   ]
  },
  {
   "cell_type": "code",
   "execution_count": 12,
   "id": "1a1ee39b",
   "metadata": {},
   "outputs": [
    {
     "name": "stdout",
     "output_type": "stream",
     "text": [
      "[3, 4]\n"
     ]
    }
   ],
   "source": [
    "# Find common elements in two lists\n",
    "lst1 = [1, 2, 3, 4]\n",
    "lst2 = [3, 4, 5, 6]\n",
    "common = [x for x in lst1 if x in lst2]\n",
    "print(common)"
   ]
  },
  {
   "cell_type": "code",
   "execution_count": 13,
   "id": "22600948",
   "metadata": {},
   "outputs": [
    {
     "name": "stdout",
     "output_type": "stream",
     "text": [
      "Min: 1 Max: 8\n"
     ]
    }
   ],
   "source": [
    "# Find min and max without min() or max()\n",
    "lst = [5, 2, 8, 1]\n",
    "minimum = maximum = lst[0]\n",
    "for i in lst:\n",
    "    if i < minimum:\n",
    "        minimum = i\n",
    "    if i > maximum:\n",
    "        maximum = i\n",
    "print(\"Min:\", minimum, \"Max:\", maximum)\n"
   ]
  },
  {
   "cell_type": "code",
   "execution_count": 14,
   "id": "a3599d01",
   "metadata": {},
   "outputs": [
    {
     "name": "stdout",
     "output_type": "stream",
     "text": [
      "All same\n"
     ]
    }
   ],
   "source": [
    "# Check if all elements in list are same\n",
    "lst = [3, 3, 3]\n",
    "print(\"All same\" if lst.count(lst[0]) == len(lst) else \"Not all same\")"
   ]
  },
  {
   "cell_type": "code",
   "execution_count": 15,
   "id": "cd9712fc",
   "metadata": {},
   "outputs": [
    {
     "name": "stdout",
     "output_type": "stream",
     "text": [
      "[1, 2, 3, 4, 5, 6]\n"
     ]
    }
   ],
   "source": [
    "# Merge two sorted lists\n",
    "a = [1, 3, 5]\n",
    "b = [2, 4, 6]\n",
    "merged = sorted(a + b)\n",
    "print(merged)"
   ]
  },
  {
   "cell_type": "code",
   "execution_count": 16,
   "id": "c693d07c",
   "metadata": {},
   "outputs": [
    {
     "name": "stdout",
     "output_type": "stream",
     "text": [
      "Missing: 9\n"
     ]
    }
   ],
   "source": [
    "# Find missing number in list 1-10\n",
    "lst = [1,2,3,4,5,6,7,8,10]\n",
    "missing = sum(range(1,11)) - sum(lst)\n",
    "print(\"Missing:\", missing)"
   ]
  },
  {
   "cell_type": "code",
   "execution_count": 17,
   "id": "85e59d19",
   "metadata": {},
   "outputs": [
    {
     "name": "stdout",
     "output_type": "stream",
     "text": [
      "14\n"
     ]
    }
   ],
   "source": [
    "# Sum of squares of list\n",
    "lst = [1, 2, 3]\n",
    "print(sum(x**2 for x in lst))"
   ]
  },
  {
   "cell_type": "code",
   "execution_count": 18,
   "id": "16ed6fa9",
   "metadata": {},
   "outputs": [
    {
     "name": "stdout",
     "output_type": "stream",
     "text": [
      "True\n"
     ]
    }
   ],
   "source": [
    "# Check if list is palindrome\n",
    "lst = [1,2,1]\n",
    "print(lst == lst[::-1])"
   ]
  },
  {
   "cell_type": "code",
   "execution_count": 19,
   "id": "925132d9",
   "metadata": {},
   "outputs": [
    {
     "name": "stdout",
     "output_type": "stream",
     "text": [
      "True\n"
     ]
    }
   ],
   "source": [
    "# Check if two lists are permutations\n",
    "lst1 = [1,2,3]\n",
    "lst2 = [3,2,1]\n",
    "print(sorted(lst1) == sorted(lst2))"
   ]
  },
  {
   "cell_type": "code",
   "execution_count": 20,
   "id": "5e4cbc31",
   "metadata": {},
   "outputs": [
    {
     "name": "stdout",
     "output_type": "stream",
     "text": [
      "3\n"
     ]
    }
   ],
   "source": [
    "# Calculate median\n",
    "lst = [5,1,3]\n",
    "lst.sort()\n",
    "n = len(lst)\n",
    "median = lst[n//2] if n%2 else (lst[n//2-1]+lst[n//2])/2\n",
    "print(median)"
   ]
  },
  {
   "cell_type": "code",
   "execution_count": 21,
   "id": "cf2effbd",
   "metadata": {},
   "outputs": [
    {
     "name": "stdout",
     "output_type": "stream",
     "text": [
      "['a', 'b']\n"
     ]
    }
   ],
   "source": [
    "# Remove empty strings\n",
    "lst = ['a', '', 'b', '']\n",
    "print([x for x in lst if x])"
   ]
  },
  {
   "cell_type": "code",
   "execution_count": 22,
   "id": "c3734dba",
   "metadata": {},
   "outputs": [
    {
     "name": "stdout",
     "output_type": "stream",
     "text": [
      "1,2,3\n"
     ]
    }
   ],
   "source": [
    "\n",
    "# Convert list to comma-separated string\n",
    "lst = [1, 2, 3]\n",
    "print(','.join(map(str, lst)))"
   ]
  },
  {
   "cell_type": "code",
   "execution_count": 23,
   "id": "e9f50167",
   "metadata": {},
   "outputs": [
    {
     "name": "stdout",
     "output_type": "stream",
     "text": [
      "40\n"
     ]
    }
   ],
   "source": [
    "# Sum elements at even indices\n",
    "lst = [10, 20, 30, 40]\n",
    "print(sum(lst[::2]))"
   ]
  },
  {
   "cell_type": "code",
   "execution_count": 24,
   "id": "16ab01f3",
   "metadata": {},
   "outputs": [
    {
     "name": "stdout",
     "output_type": "stream",
     "text": [
      "True\n"
     ]
    }
   ],
   "source": [
    "\n",
    "# Check if list has duplicates\n",
    "lst = [1,2,3,2]\n",
    "print(len(lst) != len(set(lst)))\n"
   ]
  },
  {
   "cell_type": "code",
   "execution_count": 25,
   "id": "c6973043",
   "metadata": {},
   "outputs": [
    {
     "name": "stdout",
     "output_type": "stream",
     "text": [
      "[1, 2, 3, 4]\n"
     ]
    }
   ],
   "source": [
    "# Flatten 2D list\n",
    "lst = [[1, 2], [3, 4]]\n",
    "flat = [item for sublist in lst for item in sublist]\n",
    "print(flat)"
   ]
  }
 ],
 "metadata": {
  "kernelspec": {
   "display_name": "myvenv",
   "language": "python",
   "name": "python3"
  },
  "language_info": {
   "codemirror_mode": {
    "name": "ipython",
    "version": 3
   },
   "file_extension": ".py",
   "mimetype": "text/x-python",
   "name": "python",
   "nbconvert_exporter": "python",
   "pygments_lexer": "ipython3",
   "version": "3.9.13"
  }
 },
 "nbformat": 4,
 "nbformat_minor": 5
}
