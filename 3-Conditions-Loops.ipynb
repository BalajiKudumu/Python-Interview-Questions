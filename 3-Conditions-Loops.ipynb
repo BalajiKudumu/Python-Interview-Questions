{
 "cells": [
  {
   "cell_type": "code",
   "execution_count": 1,
   "id": "476e2a55",
   "metadata": {},
   "outputs": [
    {
     "name": "stdout",
     "output_type": "stream",
     "text": [
      "Odd\n"
     ]
    }
   ],
   "source": [
    "# Conditionals\n",
    "# Check if a number is even or odd.\n",
    "n = int(input(\"Enter number: \"))\n",
    "if n % 2 == 0:\n",
    "    print(\"Even\")\n",
    "else:\n",
    "    print(\"Odd\")"
   ]
  },
  {
   "cell_type": "code",
   "execution_count": 2,
   "id": "dc3c70b3",
   "metadata": {},
   "outputs": [
    {
     "name": "stdout",
     "output_type": "stream",
     "text": [
      "Greatest: 20\n"
     ]
    }
   ],
   "source": [
    "# Find the greatest of 3 numbers.\n",
    "a, b, c = 10, 20, 15\n",
    "greatest = a\n",
    "if b > greatest:\n",
    "    greatest = b\n",
    "if c > greatest:\n",
    "    greatest = c\n",
    "print(\"Greatest:\", greatest)"
   ]
  },
  {
   "cell_type": "code",
   "execution_count": 3,
   "id": "cd87219a",
   "metadata": {},
   "outputs": [
    {
     "name": "stdout",
     "output_type": "stream",
     "text": [
      "Not leap year\n"
     ]
    }
   ],
   "source": [
    "# Check if a year is leap year.\n",
    "year = int(input(\"Enter year: \"))\n",
    "if (year % 4 == 0 and year % 100 != 0) or (year % 400 == 0):\n",
    "    print(\"Leap year\")\n",
    "else:\n",
    "    print(\"Not leap year\")"
   ]
  },
  {
   "cell_type": "code",
   "execution_count": 4,
   "id": "dabbbffc",
   "metadata": {},
   "outputs": [
    {
     "name": "stdout",
     "output_type": "stream",
     "text": [
      "Palindrome\n"
     ]
    }
   ],
   "source": [
    "# Check palindrome string.\n",
    "s = \"madam\"\n",
    "if s == s[::-1]:\n",
    "    print(\"Palindrome\")\n",
    "else:\n",
    "    print(\"Not Palindrome\")"
   ]
  },
  {
   "cell_type": "code",
   "execution_count": 5,
   "id": "6b3200c2",
   "metadata": {},
   "outputs": [
    {
     "name": "stdout",
     "output_type": "stream",
     "text": [
      "Wrong! Number was 6\n"
     ]
    }
   ],
   "source": [
    "# Guess the number game\n",
    "import random\n",
    "num = random.randint(1, 10)\n",
    "guess = int(input(\"Guess (1-10): \"))\n",
    "if guess == num:\n",
    "    print(\"Correct!\")\n",
    "else:\n",
    "    print(f\"Wrong! Number was {num}\")"
   ]
  },
  {
   "cell_type": "code",
   "execution_count": 6,
   "id": "5e6b2429",
   "metadata": {},
   "outputs": [
    {
     "name": "stdout",
     "output_type": "stream",
     "text": [
      "1 2 3 4 5 6 7 8 9 10 "
     ]
    }
   ],
   "source": [
    "# Print numbers 1 to 10.\n",
    "for i in range(1, 11):\n",
    "    print(i, end=\" \")\n"
   ]
  },
  {
   "cell_type": "code",
   "execution_count": 7,
   "id": "0a33f9bb",
   "metadata": {},
   "outputs": [
    {
     "name": "stdout",
     "output_type": "stream",
     "text": [
      "Sum: 5050\n"
     ]
    }
   ],
   "source": [
    "# Print sum of numbers 1 to 100.\n",
    "total = 0\n",
    "for i in range(1, 101):\n",
    "    total += i\n",
    "print(\"Sum:\", total)"
   ]
  },
  {
   "cell_type": "code",
   "execution_count": 8,
   "id": "b0b9e3d6",
   "metadata": {},
   "outputs": [
    {
     "name": "stdout",
     "output_type": "stream",
     "text": [
      "5 x 1 = 5\n",
      "5 x 2 = 10\n",
      "5 x 3 = 15\n",
      "5 x 4 = 20\n",
      "5 x 5 = 25\n",
      "5 x 6 = 30\n",
      "5 x 7 = 35\n",
      "5 x 8 = 40\n",
      "5 x 9 = 45\n",
      "5 x 10 = 50\n"
     ]
    }
   ],
   "source": [
    "# Display multiplication table of a number.\n",
    "num = 5\n",
    "for i in range(1, 11):\n",
    "    print(f\"{num} x {i} = {num*i}\")"
   ]
  },
  {
   "cell_type": "code",
   "execution_count": 9,
   "id": "7883aead",
   "metadata": {},
   "outputs": [
    {
     "name": "stdout",
     "output_type": "stream",
     "text": [
      "Factorial: 120\n"
     ]
    }
   ],
   "source": [
    "# Find factorial using while loop.\n",
    "n = 5\n",
    "fact = 1\n",
    "while n > 0:\n",
    "    fact *= n\n",
    "    n -= 1\n",
    "print(\"Factorial:\", fact)"
   ]
  },
  {
   "cell_type": "code",
   "execution_count": 10,
   "id": "9344e976",
   "metadata": {},
   "outputs": [
    {
     "name": "stdout",
     "output_type": "stream",
     "text": [
      "Vowels: 3\n"
     ]
    }
   ],
   "source": [
    "# Count vowels in a string.\n",
    "s = \"hello world\"\n",
    "count = 0\n",
    "for ch in s:\n",
    "    if ch in \"aeiouAEIOU\":\n",
    "        count += 1\n",
    "print(\"Vowels:\", count)\n"
   ]
  },
  {
   "cell_type": "code",
   "execution_count": 11,
   "id": "2b4289e0",
   "metadata": {},
   "outputs": [
    {
     "name": "stdout",
     "output_type": "stream",
     "text": [
      "Sum of digits: 10\n"
     ]
    }
   ],
   "source": [
    "# Sum of digits of a number\n",
    "n = 1234\n",
    "total = 0\n",
    "while n:\n",
    "    total += n % 10\n",
    "    n //= 10\n",
    "print(\"Sum of digits:\", total)\n"
   ]
  },
  {
   "cell_type": "code",
   "execution_count": 12,
   "id": "2ef4c82e",
   "metadata": {},
   "outputs": [
    {
     "name": "stdout",
     "output_type": "stream",
     "text": [
      "2 3 5 7 11 13 17 19 "
     ]
    }
   ],
   "source": [
    "# Print prime numbers up to N\n",
    "n = 20\n",
    "for i in range(2, n + 1):\n",
    "    for j in range(2, int(i ** 0.5) + 1):\n",
    "        if i % j == 0:\n",
    "            break\n",
    "    else:\n",
    "        print(i, end=\" \")"
   ]
  },
  {
   "cell_type": "code",
   "execution_count": 13,
   "id": "3bc6c985",
   "metadata": {},
   "outputs": [
    {
     "name": "stdout",
     "output_type": "stream",
     "text": [
      "Armstrong\n"
     ]
    }
   ],
   "source": [
    "# Check Armstrong number\n",
    "n = 153\n",
    "num = n\n",
    "total = 0\n",
    "while n:\n",
    "    digit = n % 10\n",
    "    total += digit ** 3\n",
    "    n //= 10\n",
    "print(\"Armstrong\" if total == num else \"Not Armstrong\")"
   ]
  },
  {
   "cell_type": "code",
   "execution_count": 14,
   "id": "b2725d83",
   "metadata": {},
   "outputs": [
    {
     "name": "stdout",
     "output_type": "stream",
     "text": [
      "Uppercase: 2 Lowercase: 8\n"
     ]
    }
   ],
   "source": [
    "# Count uppercase and lowercase letters\n",
    "s = \"Hello World\"\n",
    "u = l = 0\n",
    "for ch in s:\n",
    "    if ch.isupper():\n",
    "        u += 1\n",
    "    elif ch.islower():\n",
    "        l += 1\n",
    "print(\"Uppercase:\", u, \"Lowercase:\", l)"
   ]
  },
  {
   "cell_type": "code",
   "execution_count": 15,
   "id": "039a005c",
   "metadata": {},
   "outputs": [
    {
     "name": "stdout",
     "output_type": "stream",
     "text": [
      "Palindrome\n"
     ]
    }
   ],
   "source": [
    "# Check if number is palindrome\n",
    "n = 121\n",
    "num = n\n",
    "rev = 0\n",
    "while n:\n",
    "    rev = rev * 10 + n % 10\n",
    "    n //= 10\n",
    "print(\"Palindrome\" if rev == num else \"Not palindrome\")"
   ]
  },
  {
   "cell_type": "code",
   "execution_count": 16,
   "id": "c6a36822",
   "metadata": {},
   "outputs": [
    {
     "name": "stdout",
     "output_type": "stream",
     "text": [
      "c\n"
     ]
    }
   ],
   "source": [
    "# Find first non-repeating char\n",
    "s = \"aabbcde\"\n",
    "for ch in s:\n",
    "    if s.count(ch) == 1:\n",
    "        print(ch)\n",
    "        break\n"
   ]
  },
  {
   "cell_type": "code",
   "execution_count": 17,
   "id": "a24650fb",
   "metadata": {},
   "outputs": [
    {
     "name": "stdout",
     "output_type": "stream",
     "text": [
      "Reversed: 4321\n"
     ]
    }
   ],
   "source": [
    "# Reverse digits of a number\n",
    "n = 1234\n",
    "rev = 0\n",
    "while n:\n",
    "    rev = rev * 10 + n % 10\n",
    "    n //= 10\n",
    "print(\"Reversed:\", rev)\n"
   ]
  },
  {
   "cell_type": "code",
   "execution_count": 18,
   "id": "71e1aa6b",
   "metadata": {},
   "outputs": [
    {
     "name": "stdout",
     "output_type": "stream",
     "text": [
      "Digits: 5\n"
     ]
    }
   ],
   "source": [
    "# Count digits in a number\n",
    "n = 12345\n",
    "count = 0\n",
    "while n:\n",
    "    n //= 10\n",
    "    count += 1\n",
    "print(\"Digits:\", count)\n"
   ]
  },
  {
   "cell_type": "code",
   "execution_count": 19,
   "id": "b1499ef7",
   "metadata": {},
   "outputs": [
    {
     "name": "stdout",
     "output_type": "stream",
     "text": [
      "15\n",
      "30\n",
      "45\n"
     ]
    }
   ],
   "source": [
    "# Print numbers divisible by 3 and 5\n",
    "for i in range(1, 51):\n",
    "    if i%3==0 and i%5==0:\n",
    "        print(i)"
   ]
  },
  {
   "cell_type": "code",
   "execution_count": 20,
   "id": "aca4da6b",
   "metadata": {},
   "outputs": [
    {
     "name": "stdout",
     "output_type": "stream",
     "text": [
      "{'hello': 2, 'world': 1}\n"
     ]
    }
   ],
   "source": [
    "# Count frequency of each word\n",
    "s = \"hello world hello\"\n",
    "words = s.split()\n",
    "freq = {word: words.count(word) for word in set(words)}\n",
    "print(freq)"
   ]
  },
  {
   "cell_type": "code",
   "execution_count": 21,
   "id": "153a08e4",
   "metadata": {},
   "outputs": [
    {
     "name": "stdout",
     "output_type": "stream",
     "text": [
      "    *\n",
      "   ***\n",
      "  *****\n",
      " *******\n",
      "*********\n"
     ]
    }
   ],
   "source": [
    "# Print star pyramid\n",
    "n = 5\n",
    "for i in range(1, n+1):\n",
    "    print(' '*(n-i) + '*'*(2*i-1))"
   ]
  },
  {
   "cell_type": "code",
   "execution_count": 22,
   "id": "33efbc6c",
   "metadata": {},
   "outputs": [
    {
     "name": "stdout",
     "output_type": "stream",
     "text": [
      "Hello world\n"
     ]
    }
   ],
   "source": [
    "# Remove punctuation from string\n",
    "import string\n",
    "s = \"Hello, world!\"\n",
    "print(''.join(ch for ch in s if ch not in string.punctuation))"
   ]
  },
  {
   "cell_type": "code",
   "execution_count": 23,
   "id": "09790c54",
   "metadata": {},
   "outputs": [
    {
     "name": "stdout",
     "output_type": "stream",
     "text": [
      "[1, 3, 5, 15]\n"
     ]
    }
   ],
   "source": [
    "\n",
    "# All factors of a number\n",
    "n = 15\n",
    "print([i for i in range(1, n+1) if n%i==0])"
   ]
  },
  {
   "cell_type": "code",
   "execution_count": 24,
   "id": "48d4d416",
   "metadata": {},
   "outputs": [
    {
     "name": "stdout",
     "output_type": "stream",
     "text": [
      "A B C D E F G H I J K L M N O P Q R S T U V W X Y Z "
     ]
    }
   ],
   "source": [
    "# Print ASCII characters from 65 to 90\n",
    "for i in range(65, 91):\n",
    "    print(chr(i), end=\" \")"
   ]
  },
  {
   "cell_type": "code",
   "execution_count": 25,
   "id": "c14407df",
   "metadata": {},
   "outputs": [
    {
     "name": "stdout",
     "output_type": "stream",
     "text": [
      "olleh\n"
     ]
    }
   ],
   "source": [
    "# Reverse string using stack\n",
    "s = \"hello\"\n",
    "stack = list(s)\n",
    "reversed_s = ''\n",
    "while stack:\n",
    "    reversed_s += stack.pop()\n",
    "print(reversed_s)"
   ]
  },
  {
   "cell_type": "code",
   "execution_count": null,
   "metadata": {},
   "outputs": [],
   "source": []
  },
  {
   "cell_type": "code",
   "execution_count": null,
   "metadata": {},
   "outputs": [],
   "source": []
  },
  {
   "cell_type": "code",
   "execution_count": null,
   "metadata": {},
   "outputs": [],
   "source": []
  }
 ],
 "metadata": {
  "kernelspec": {
   "display_name": "myvenv",
   "language": "python",
   "name": "python3"
  },
  "language_info": {
   "codemirror_mode": {
    "name": "ipython",
    "version": 3
   },
   "file_extension": ".py",
   "mimetype": "text/x-python",
   "name": "python",
   "nbconvert_exporter": "python",
   "pygments_lexer": "ipython3",
   "version": "3.9.13"
  }
 },
 "nbformat": 4,
 "nbformat_minor": 5
}
