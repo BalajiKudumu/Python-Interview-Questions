{
 "cells": [
  {
   "cell_type": "markdown",
   "id": "b1d75afe",
   "metadata": {},
   "source": [
    "## 1. Basic Input/Output, Arithmetic"
   ]
  },
  {
   "cell_type": "code",
   "execution_count": 1,
   "id": "fe9279a0",
   "metadata": {},
   "outputs": [
    {
     "name": "stdout",
     "output_type": "stream",
     "text": [
      "a = 10\n",
      "b = 5\n"
     ]
    }
   ],
   "source": [
    "# Write a Python program to swap two numbers.\n",
    "a = 5\n",
    "b = 10\n",
    "a, b = b, a\n",
    "print(\"a =\", a)\n",
    "print(\"b =\", b)"
   ]
  },
  {
   "cell_type": "code",
   "execution_count": 2,
   "id": "90b71d4e",
   "metadata": {},
   "outputs": [
    {
     "name": "stdout",
     "output_type": "stream",
     "text": [
      "Sum: 10\n"
     ]
    }
   ],
   "source": [
    "# Take two integers as input and print their sum.\n",
    "x = int(input(\"Enter first number: \"))\n",
    "y = int(input(\"Enter second number: \"))\n",
    "print(\"Sum:\", x + y)"
   ]
  },
  {
   "cell_type": "code",
   "execution_count": 3,
   "id": "8f3f53fc",
   "metadata": {},
   "outputs": [
    {
     "name": "stdout",
     "output_type": "stream",
     "text": [
      "Integer part: 5\n"
     ]
    }
   ],
   "source": [
    "# Convert a float to integer without using int().\n",
    "f = 5.67\n",
    "i = f // 1\n",
    "print(\"Integer part:\", int(i))\n"
   ]
  },
  {
   "cell_type": "code",
   "execution_count": 4,
   "id": "df1f801b",
   "metadata": {},
   "outputs": [
    {
     "name": "stdout",
     "output_type": "stream",
     "text": [
      "<class 'float'>\n"
     ]
    }
   ],
   "source": [
    "# Check the data type of a variable.\n",
    "var = 3.14\n",
    "print(type(var))"
   ]
  },
  {
   "cell_type": "code",
   "execution_count": 5,
   "id": "39e8e8d5",
   "metadata": {},
   "outputs": [
    {
     "name": "stdout",
     "output_type": "stream",
     "text": [
      "Fahrenheit: 98.6\n"
     ]
    }
   ],
   "source": [
    "# Convert Celsius to Fahrenheit\n",
    "c = 37\n",
    "f = c * 9/5 + 32\n",
    "print(f\"Fahrenheit: {f}\")"
   ]
  },
  {
   "cell_type": "code",
   "execution_count": null,
   "id": "f38c5b52",
   "metadata": {},
   "outputs": [],
   "source": []
  },
  {
   "cell_type": "code",
   "execution_count": null,
   "id": "78462688",
   "metadata": {},
   "outputs": [],
   "source": []
  },
  {
   "cell_type": "code",
   "execution_count": 6,
   "id": "2b5c37de",
   "metadata": {},
   "outputs": [
    {
     "name": "stdout",
     "output_type": "stream",
     "text": [
      "3.14\n"
     ]
    }
   ],
   "source": [
    "# Q144 Round float to 2 decimal places\n",
    "f = 3.14159\n",
    "print(round(f, 2))"
   ]
  },
  {
   "cell_type": "code",
   "execution_count": 7,
   "id": "c2e0b3a4",
   "metadata": {},
   "outputs": [
    {
     "name": "stdout",
     "output_type": "stream",
     "text": [
      "101\n"
     ]
    }
   ],
   "source": [
    "# Q145 Convert decimal to binary\n",
    "n = 5\n",
    "print(bin(n)[2:])"
   ]
  },
  {
   "cell_type": "code",
   "execution_count": null,
   "id": "c2ca0ded",
   "metadata": {},
   "outputs": [],
   "source": []
  },
  {
   "cell_type": "code",
   "execution_count": null,
   "id": "055fc6e1",
   "metadata": {},
   "outputs": [],
   "source": []
  },
  {
   "cell_type": "code",
   "execution_count": null,
   "id": "709f64e6",
   "metadata": {},
   "outputs": [],
   "source": []
  },
  {
   "cell_type": "code",
   "execution_count": null,
   "id": "a4768371",
   "metadata": {},
   "outputs": [],
   "source": []
  },
  {
   "cell_type": "code",
   "execution_count": null,
   "id": "c0e26d33",
   "metadata": {},
   "outputs": [],
   "source": []
  }
 ],
 "metadata": {
  "kernelspec": {
   "display_name": "myvenv",
   "language": "python",
   "name": "python3"
  },
  "language_info": {
   "codemirror_mode": {
    "name": "ipython",
    "version": 3
   },
   "file_extension": ".py",
   "mimetype": "text/x-python",
   "name": "python",
   "nbconvert_exporter": "python",
   "pygments_lexer": "ipython3",
   "version": "3.9.13"
  }
 },
 "nbformat": 4,
 "nbformat_minor": 5
}
