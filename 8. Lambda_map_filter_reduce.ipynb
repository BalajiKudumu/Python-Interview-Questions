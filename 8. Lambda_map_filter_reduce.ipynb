{
 "cells": [
  {
   "cell_type": "markdown",
   "id": "fa28ea50",
   "metadata": {},
   "source": [
    "## Lambda, map, filter, reduce"
   ]
  },
  {
   "cell_type": "code",
   "execution_count": 1,
   "id": "ed957578",
   "metadata": {},
   "outputs": [
    {
     "name": "stdout",
     "output_type": "stream",
     "text": [
      "[1, 4, 9, 16]\n"
     ]
    }
   ],
   "source": [
    "# Square numbers with map\n",
    "nums = [1, 2, 3, 4]\n",
    "squares = list(map(lambda x: x**2, nums))\n",
    "print(squares)"
   ]
  },
  {
   "cell_type": "code",
   "execution_count": 2,
   "id": "8703886a",
   "metadata": {},
   "outputs": [
    {
     "name": "stdout",
     "output_type": "stream",
     "text": [
      "[1, 3, 5]\n"
     ]
    }
   ],
   "source": [
    "# Filter odd numbers\n",
    "nums = [1, 2, 3, 4, 5]\n",
    "odds = list(filter(lambda x: x % 2 != 0, nums))\n",
    "print(odds)"
   ]
  },
  {
   "cell_type": "code",
   "execution_count": 3,
   "id": "1cc1c320",
   "metadata": {},
   "outputs": [
    {
     "name": "stdout",
     "output_type": "stream",
     "text": [
      "10\n"
     ]
    }
   ],
   "source": [
    "# Reduce to sum list\n",
    "from functools import reduce\n",
    "nums = [1, 2, 3, 4]\n",
    "total = reduce(lambda x, y: x + y, nums)\n",
    "print(total)"
   ]
  },
  {
   "cell_type": "code",
   "execution_count": null,
   "id": "51f46324",
   "metadata": {},
   "outputs": [],
   "source": []
  }
 ],
 "metadata": {
  "kernelspec": {
   "display_name": "myvenv",
   "language": "python",
   "name": "python3"
  },
  "language_info": {
   "codemirror_mode": {
    "name": "ipython",
    "version": 3
   },
   "file_extension": ".py",
   "mimetype": "text/x-python",
   "name": "python",
   "nbconvert_exporter": "python",
   "pygments_lexer": "ipython3",
   "version": "3.9.13"
  }
 },
 "nbformat": 4,
 "nbformat_minor": 5
}
