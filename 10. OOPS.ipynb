{
 "cells": [
  {
   "cell_type": "markdown",
   "id": "300c6452",
   "metadata": {},
   "source": [
    "## Classes & Objects"
   ]
  },
  {
   "cell_type": "code",
   "execution_count": 1,
   "id": "7f8d1123",
   "metadata": {},
   "outputs": [
    {
     "name": "stdout",
     "output_type": "stream",
     "text": [
      "Hello!\n"
     ]
    }
   ],
   "source": [
    "# Classes & Objects\n",
    "# Simple class with method\n",
    "\n",
    "class Person:\n",
    "    def greet(self):\n",
    "        print(\"Hello!\")\n",
    "\n",
    "p = Person()\n",
    "p.greet()"
   ]
  },
  {
   "cell_type": "code",
   "execution_count": 2,
   "id": "89d9d2b0",
   "metadata": {},
   "outputs": [
    {
     "name": "stdout",
     "output_type": "stream",
     "text": [
      "Area: 15\n"
     ]
    }
   ],
   "source": [
    "# Class with constructor\n",
    "class Rectangle:\n",
    "    def __init__(self, length, width):\n",
    "        self.length = length\n",
    "        self.width = width\n",
    "    \n",
    "    def area(self):\n",
    "        return self.length * self.width\n",
    "\n",
    "r = Rectangle(5, 3)\n",
    "print(\"Area:\", r.area())"
   ]
  },
  {
   "cell_type": "code",
   "execution_count": 3,
   "id": "5fa68b5a",
   "metadata": {},
   "outputs": [
    {
     "name": "stdout",
     "output_type": "stream",
     "text": [
      "Animal sound\n",
      "Woof!\n"
     ]
    }
   ],
   "source": [
    "# Single inheritance example\n",
    "class Animal:\n",
    "    def sound(self):\n",
    "        print(\"Animal sound\")\n",
    "\n",
    "class Dog(Animal):\n",
    "    def bark(self):\n",
    "        print(\"Woof!\")\n",
    "\n",
    "d = Dog()\n",
    "d.sound()\n",
    "d.bark()"
   ]
  },
  {
   "cell_type": "code",
   "execution_count": 4,
   "id": "c18da14f",
   "metadata": {},
   "outputs": [
    {
     "name": "stdout",
     "output_type": "stream",
     "text": [
      "Meow\n"
     ]
    }
   ],
   "source": [
    "# Method overriding\n",
    "class Animal:\n",
    "    def sound(self):\n",
    "        print(\"Generic sound\")\n",
    "\n",
    "class Cat(Animal):\n",
    "    def sound(self):\n",
    "        print(\"Meow\")\n",
    "\n",
    "c = Cat()\n",
    "c.sound()"
   ]
  },
  {
   "cell_type": "code",
   "execution_count": 5,
   "id": "c9b63827",
   "metadata": {},
   "outputs": [
    {
     "name": "stdout",
     "output_type": "stream",
     "text": [
      "8\n"
     ]
    }
   ],
   "source": [
    "# Class with static method\n",
    "class Math:\n",
    "    @staticmethod\n",
    "    def add(a, b):\n",
    "        return a + b\n",
    "\n",
    "print(Math.add(5, 3))\n",
    "\n",
    "\n"
   ]
  },
  {
   "cell_type": "code",
   "execution_count": 6,
   "id": "17323ed4",
   "metadata": {},
   "outputs": [
    {
     "name": "stdout",
     "output_type": "stream",
     "text": [
      "Species: Homo sapiens\n"
     ]
    }
   ],
   "source": [
    "# Class method example\n",
    "class Person:\n",
    "    species = \"Homo sapiens\"\n",
    "\n",
    "    @classmethod\n",
    "    def info(cls):\n",
    "        return f\"Species: {cls.species}\"\n",
    "\n",
    "print(Person.info())"
   ]
  },
  {
   "cell_type": "code",
   "execution_count": 7,
   "id": "07091133",
   "metadata": {},
   "outputs": [
    {
     "name": "stdout",
     "output_type": "stream",
     "text": [
      "Time: 1.0010926723480225\n"
     ]
    }
   ],
   "source": [
    "# Decorator to time a function\n",
    "import time\n",
    "\n",
    "def timer(func):\n",
    "    def wrapper(*args, **kwargs):\n",
    "        start = time.time()\n",
    "        result = func(*args, **kwargs)\n",
    "        end = time.time()\n",
    "        print(f\"Time: {end - start}\")\n",
    "        return result\n",
    "    return wrapper\n",
    "\n",
    "@timer\n",
    "def slow_function():\n",
    "    time.sleep(1)\n",
    "\n",
    "slow_function()"
   ]
  },
  {
   "cell_type": "code",
   "execution_count": null,
   "id": "9337db2c",
   "metadata": {},
   "outputs": [],
   "source": []
  },
  {
   "cell_type": "code",
   "execution_count": null,
   "id": "8fb48849",
   "metadata": {},
   "outputs": [],
   "source": []
  }
 ],
 "metadata": {
  "kernelspec": {
   "display_name": "myvenv",
   "language": "python",
   "name": "python3"
  },
  "language_info": {
   "codemirror_mode": {
    "name": "ipython",
    "version": 3
   },
   "file_extension": ".py",
   "mimetype": "text/x-python",
   "name": "python",
   "nbconvert_exporter": "python",
   "pygments_lexer": "ipython3",
   "version": "3.9.13"
  }
 },
 "nbformat": 4,
 "nbformat_minor": 5
}
