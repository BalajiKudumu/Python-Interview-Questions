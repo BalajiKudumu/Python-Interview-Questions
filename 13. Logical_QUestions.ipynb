{
 "cells": [
  {
   "cell_type": "markdown",
   "id": "00195d28",
   "metadata": {},
   "source": [
    "## Logical Questions for Practice"
   ]
  },
  {
   "cell_type": "code",
   "execution_count": 1,
   "id": "0653de9a",
   "metadata": {},
   "outputs": [
    {
     "name": "stdout",
     "output_type": "stream",
     "text": [
      "Strong number\n"
     ]
    }
   ],
   "source": [
    "# Check strong number\n",
    "def factorial(x):\n",
    "    f = 1\n",
    "    for i in range(1, x + 1):\n",
    "        f *= i\n",
    "    return f\n",
    "\n",
    "n = 145\n",
    "num = n\n",
    "total = 0\n",
    "while n:\n",
    "    total += factorial(n % 10)\n",
    "    n //= 10\n",
    "print(\"Strong number\" if total == num else \"Not strong number\")"
   ]
  },
  {
   "cell_type": "code",
   "execution_count": 2,
   "id": "143a53bf",
   "metadata": {},
   "outputs": [
    {
     "name": "stdout",
     "output_type": "stream",
     "text": [
      "True\n"
     ]
    }
   ],
   "source": [
    "# Check substring without in operator\n",
    "def is_substring(sub, s):\n",
    "    for i in range(len(s) - len(sub) + 1):\n",
    "        if s[i:i+len(sub)] == sub:\n",
    "            return True\n",
    "    return False\n",
    "\n",
    "print(is_substring(\"lo\", \"hello\"))"
   ]
  },
  {
   "cell_type": "code",
   "execution_count": 3,
   "id": "8fa4d093",
   "metadata": {},
   "outputs": [
    {
     "name": "stdout",
     "output_type": "stream",
     "text": [
      "0\n",
      "1\n",
      "1\n",
      "2\n",
      "3\n"
     ]
    }
   ],
   "source": [
    "# \n",
    "# Generator for Fibonacci numbers\n",
    "def fib_gen(n):\n",
    "    a, b = 0, 1\n",
    "    for _ in range(n):\n",
    "        yield a\n",
    "        a, b = b, a + b\n",
    "\n",
    "for num in fib_gen(5):\n",
    "    print(num)"
   ]
  },
  {
   "cell_type": "code",
   "execution_count": 4,
   "id": "e1d9d133",
   "metadata": {},
   "outputs": [
    {
     "name": "stdout",
     "output_type": "stream",
     "text": [
      "Valid\n"
     ]
    }
   ],
   "source": [
    "# Regex: Validate email\n",
    "import re\n",
    "email = \"test@example.com\"\n",
    "pattern = r'^[\\w\\.-]+@[\\w\\.-]+\\.\\w+$'\n",
    "print(\"Valid\" if re.match(pattern, email) else \"Invalid\")\n"
   ]
  },
  {
   "cell_type": "code",
   "execution_count": 5,
   "id": "96cbdc7e",
   "metadata": {},
   "outputs": [
    {
     "name": "stdout",
     "output_type": "stream",
     "text": [
      "['123', '456']\n"
     ]
    }
   ],
   "source": [
    "# Regex: Find all numbers in string\n",
    "import re\n",
    "s = \"abc 123 def 456\"\n",
    "nums = re.findall(r'\\d+', s)\n",
    "print(nums)"
   ]
  },
  {
   "cell_type": "code",
   "execution_count": 6,
   "id": "fd3ae57b",
   "metadata": {},
   "outputs": [
    {
     "name": "stdout",
     "output_type": "stream",
     "text": [
      "[[1, 3], [2, 4]]\n"
     ]
    }
   ],
   "source": [
    "# Transpose matrix\n",
    "matrix = [[1, 2], [3, 4]]\n",
    "transposed = [[row[i] for row in matrix] for i in range(len(matrix[0]))]\n",
    "print(transposed)"
   ]
  },
  {
   "cell_type": "code",
   "execution_count": 16,
   "id": "f9147bf1",
   "metadata": {},
   "outputs": [
    {
     "name": "stdout",
     "output_type": "stream",
     "text": [
      " | | \n",
      " | | \n",
      " | | \n"
     ]
    }
   ],
   "source": [
    "# Simple tic-tac-toe board display\n",
    "board = [[\" \"]*3 for _ in range(3)]\n",
    "for row in board:\n",
    "    print(\"|\".join(row))"
   ]
  },
  {
   "cell_type": "code",
   "execution_count": 8,
   "id": "3b274034",
   "metadata": {},
   "outputs": [
    {
     "name": "stdout",
     "output_type": "stream",
     "text": [
      "Score: 0/2\n"
     ]
    }
   ],
   "source": [
    "# Simple quiz program\n",
    "q = {\"Capital of India?\": \"Delhi\", \"2+2?\": \"4\"}\n",
    "score = 0\n",
    "for ques, ans in q.items():\n",
    "    reply = input(ques + \" \")\n",
    "    if reply == ans:\n",
    "        score += 1\n",
    "print(f\"Score: {score}/{len(q)}\")"
   ]
  },
  {
   "cell_type": "code",
   "execution_count": 9,
   "id": "f0712e31",
   "metadata": {},
   "outputs": [
    {
     "name": "stdout",
     "output_type": "stream",
     "text": [
      "Identity\n"
     ]
    }
   ],
   "source": [
    "# Check if matrix is identity\n",
    "matrix = [[1,0,0],[0,1,0],[0,0,1]]\n",
    "identity = True\n",
    "for i in range(len(matrix)):\n",
    "    for j in range(len(matrix)):\n",
    "        if (i==j and matrix[i][j]!=1) or (i!=j and matrix[i][j]!=0):\n",
    "            identity = False\n",
    "print(\"Identity\" if identity else \"Not Identity\")"
   ]
  },
  {
   "cell_type": "code",
   "execution_count": 10,
   "id": "a345f26d",
   "metadata": {},
   "outputs": [
    {
     "name": "stdout",
     "output_type": "stream",
     "text": [
      "camel_case_string\n"
     ]
    }
   ],
   "source": [
    "# Camel case to snake case\n",
    "import re\n",
    "s = \"camelCaseString\"\n",
    "snake = re.sub(r'(?<!^)(?=[A-Z])', '_', s).lower()\n",
    "print(snake)"
   ]
  },
  {
   "cell_type": "code",
   "execution_count": 11,
   "id": "a31b0092",
   "metadata": {},
   "outputs": [
    {
     "name": "stdout",
     "output_type": "stream",
     "text": [
      "SnakeCaseString\n"
     ]
    }
   ],
   "source": [
    "# Snake case to camel case\n",
    "s = \"snake_case_string\"\n",
    "camel = ''.join(word.title() for word in s.split('_'))\n",
    "print(camel)"
   ]
  },
  {
   "cell_type": "code",
   "execution_count": 12,
   "id": "9501c874",
   "metadata": {},
   "outputs": [
    {
     "name": "stdout",
     "output_type": "stream",
     "text": [
      "True\n"
     ]
    }
   ],
   "source": [
    "# Check if number is power of 2\n",
    "n = 8\n",
    "print((n & (n - 1) == 0) and n != 0)"
   ]
  },
  {
   "cell_type": "code",
   "execution_count": 13,
   "id": "7955712a",
   "metadata": {},
   "outputs": [
    {
     "name": "stdout",
     "output_type": "stream",
     "text": [
      "Balanced\n"
     ]
    }
   ],
   "source": [
    "# Check balanced parentheses\n",
    "s = \"(())\"\n",
    "stack = []\n",
    "balanced = True\n",
    "for ch in s:\n",
    "    if ch == '(':\n",
    "        stack.append(ch)\n",
    "    elif ch == ')':\n",
    "        if not stack:\n",
    "            balanced = False\n",
    "            break\n",
    "        stack.pop()\n",
    "if balanced and not stack:\n",
    "    print(\"Balanced\")\n",
    "else:\n",
    "    print(\"Not balanced\")"
   ]
  },
  {
   "cell_type": "code",
   "execution_count": 14,
   "id": "717965a3",
   "metadata": {},
   "outputs": [
    {
     "name": "stdout",
     "output_type": "stream",
     "text": [
      "23\n"
     ]
    }
   ],
   "source": [
    "# Sum of multiples of 3 or 5 below N\n",
    "N = 10\n",
    "print(sum(i for i in range(N) if i%3==0 or i%5==0))"
   ]
  },
  {
   "cell_type": "code",
   "execution_count": 15,
   "id": "7aff1ed9",
   "metadata": {},
   "outputs": [
    {
     "name": "stdout",
     "output_type": "stream",
     "text": [
      "True\n"
     ]
    }
   ],
   "source": [
    "# Check if list contains sublist\n",
    "def contains_sublist(lst, sub):\n",
    "    for i in range(len(lst)-len(sub)+1):\n",
    "        if lst[i:i+len(sub)] == sub:\n",
    "            return True\n",
    "    return False\n",
    "\n",
    "print(contains_sublist([1,2,3,4], [2,3]))"
   ]
  }
 ],
 "metadata": {
  "kernelspec": {
   "display_name": "myvenv",
   "language": "python",
   "name": "python3"
  },
  "language_info": {
   "codemirror_mode": {
    "name": "ipython",
    "version": 3
   },
   "file_extension": ".py",
   "mimetype": "text/x-python",
   "name": "python",
   "nbconvert_exporter": "python",
   "pygments_lexer": "ipython3",
   "version": "3.9.13"
  }
 },
 "nbformat": 4,
 "nbformat_minor": 5
}
