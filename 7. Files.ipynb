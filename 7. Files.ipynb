{
 "cells": [
  {
   "cell_type": "markdown",
   "id": "3c5f9282",
   "metadata": {},
   "source": [
    "## Files"
   ]
  },
  {
   "cell_type": "code",
   "execution_count": null,
   "id": "72da5139",
   "metadata": {},
   "outputs": [],
   "source": [
    "# Write text to a file.\n",
    "with open(\"file.txt\", \"w\") as f:\n",
    "    f.write(\"Hello World\")\n",
    "\n"
   ]
  },
  {
   "cell_type": "code",
   "execution_count": null,
   "id": "439e6e7d",
   "metadata": {},
   "outputs": [],
   "source": [
    "# Read text from a file.\n",
    "with open(\"file.txt\", \"r\") as f:\n",
    "    print(f.read())"
   ]
  },
  {
   "cell_type": "code",
   "execution_count": null,
   "id": "52397542",
   "metadata": {},
   "outputs": [],
   "source": [
    "# Write multiple lines to file\n",
    "lines = [\"First line\\n\", \"Second line\\n\"]\n",
    "with open(\"example.txt\", \"w\") as f:\n",
    "    f.writelines(lines)\n",
    "\n"
   ]
  },
  {
   "cell_type": "code",
   "execution_count": null,
   "id": "9b7cdfd5",
   "metadata": {},
   "outputs": [],
   "source": [
    "# Read file line by line\n",
    "with open(\"example.txt\") as f:\n",
    "    for line in f:\n",
    "        print(line.strip())"
   ]
  },
  {
   "cell_type": "code",
   "execution_count": null,
   "id": "a65f2e70",
   "metadata": {},
   "outputs": [],
   "source": [
    "# Count lines in file\n",
    "with open(\"example.txt\") as f:\n",
    "    print(\"Line count:\", sum(1 for _ in f))"
   ]
  },
  {
   "cell_type": "code",
   "execution_count": null,
   "id": "72c6f36d",
   "metadata": {},
   "outputs": [],
   "source": [
    "# Read file and count words\n",
    "with open(\"example.txt\") as f:\n",
    "    text = f.read()\n",
    "    words = text.split()\n",
    "    print(\"Word count:\", len(words))"
   ]
  },
  {
   "cell_type": "code",
   "execution_count": null,
   "id": "f6c6cc34",
   "metadata": {},
   "outputs": [],
   "source": [
    "# Count number of files in directory\n",
    "import os\n",
    "print(len([f for f in os.listdir('.') if os.path.isfile(f)]))"
   ]
  },
  {
   "cell_type": "code",
   "execution_count": null,
   "id": "9c5882f3",
   "metadata": {},
   "outputs": [],
   "source": [
    "# Print directory tree\n",
    "import os\n",
    "for root, dirs, files in os.walk('.'):\n",
    "    level = root.count(os.sep)\n",
    "    indent = ' ' * 2 * level\n",
    "    print(f\"{indent}{os.path.basename(root)}/\")\n",
    "    for f in files:\n",
    "        print(f\"{indent}  {f}\")"
   ]
  },
  {
   "cell_type": "code",
   "execution_count": null,
   "id": "c0e8d852",
   "metadata": {},
   "outputs": [],
   "source": [
    "# Get file size in KB\n",
    "import os\n",
    "size = os.path.getsize(\"example.txt\") / 1024\n",
    "print(f\"Size: {size:.2f} KB\")"
   ]
  },
  {
   "cell_type": "code",
   "execution_count": null,
   "id": "1f0056ef",
   "metadata": {},
   "outputs": [],
   "source": []
  },
  {
   "cell_type": "code",
   "execution_count": null,
   "id": "42ae5417",
   "metadata": {},
   "outputs": [],
   "source": []
  },
  {
   "cell_type": "code",
   "execution_count": null,
   "id": "12f6de7a",
   "metadata": {},
   "outputs": [],
   "source": []
  }
 ],
 "metadata": {
  "kernelspec": {
   "display_name": "myvenv",
   "language": "python",
   "name": "python3"
  },
  "language_info": {
   "codemirror_mode": {
    "name": "ipython",
    "version": 3
   },
   "file_extension": ".py",
   "mimetype": "text/x-python",
   "name": "python",
   "nbconvert_exporter": "python",
   "pygments_lexer": "ipython3",
   "version": "3.9.13"
  }
 },
 "nbformat": 4,
 "nbformat_minor": 5
}
