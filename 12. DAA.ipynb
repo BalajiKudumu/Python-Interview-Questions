{
 "cells": [
  {
   "cell_type": "markdown",
   "id": "f28251b8",
   "metadata": {},
   "source": [
    "## Data Structures & Algorithms"
   ]
  },
  {
   "cell_type": "code",
   "execution_count": 1,
   "id": "273d6c7d",
   "metadata": {},
   "outputs": [
    {
     "name": "stdout",
     "output_type": "stream",
     "text": [
      "2\n",
      "[1]\n"
     ]
    }
   ],
   "source": [
    "# Implement stack using list\n",
    "stack = []\n",
    "stack.append(1)\n",
    "stack.append(2)\n",
    "print(stack.pop())\n",
    "print(stack)"
   ]
  },
  {
   "cell_type": "code",
   "execution_count": 2,
   "metadata": {},
   "outputs": [
    {
     "name": "stdout",
     "output_type": "stream",
     "text": [
      "1\n",
      "[2]\n"
     ]
    }
   ],
   "source": [
    "# Implement queue using list\n",
    "queue = []\n",
    "queue.append(1)\n",
    "queue.append(2)\n",
    "print(queue.pop(0))\n",
    "print(queue)\n"
   ]
  },
  {
   "cell_type": "code",
   "execution_count": 3,
   "id": "3e02c017",
   "metadata": {},
   "outputs": [
    {
     "name": "stdout",
     "output_type": "stream",
     "text": [
      "10 -> 20 -> None\n"
     ]
    }
   ],
   "source": [
    "# Linked List - Class-based Implementation\n",
    "class Node:\n",
    "    def __init__(self, data):\n",
    "        self.data = data\n",
    "        self.next = None\n",
    "\n",
    "class LinkedList:\n",
    "    def __init__(self):\n",
    "        self.head = None\n",
    "\n",
    "    def append(self, data):\n",
    "        if not self.head:\n",
    "            self.head = Node(data)\n",
    "            return\n",
    "        cur = self.head\n",
    "        while cur.next:\n",
    "            cur = cur.next\n",
    "        cur.next = Node(data)\n",
    "\n",
    "    def display(self):\n",
    "        cur = self.head\n",
    "        while cur:\n",
    "            print(cur.data, end=\" -> \")\n",
    "            cur = cur.next\n",
    "        print(\"None\")\n",
    "\n",
    "ll = LinkedList()\n",
    "ll.append(10)\n",
    "ll.append(20)\n",
    "ll.display()"
   ]
  },
  {
   "cell_type": "code",
   "execution_count": 4,
   "id": "776327d5",
   "metadata": {},
   "outputs": [
    {
     "name": "stdout",
     "output_type": "stream",
     "text": [
      "2\n"
     ]
    }
   ],
   "source": [
    "\n",
    "# Q71 Binary search (iterative)\n",
    "def binary_search(arr, target):\n",
    "    left, right = 0, len(arr)-1\n",
    "    while left <= right:\n",
    "        mid = (left + right) // 2\n",
    "        if arr[mid] == target:\n",
    "            return mid\n",
    "        elif arr[mid] < target:\n",
    "            left = mid + 1\n",
    "        else:\n",
    "            right = mid - 1\n",
    "    return -1\n",
    "\n",
    "arr = [1, 3, 5, 7, 9]\n",
    "print(binary_search(arr, 5))"
   ]
  },
  {
   "cell_type": "code",
   "execution_count": 5,
   "metadata": {},
   "outputs": [
    {
     "name": "stdout",
     "output_type": "stream",
     "text": [
      "[11, 12, 22, 25, 64]\n"
     ]
    }
   ],
   "source": [
    "# Selection sort\n",
    "def selection_sort(arr):\n",
    "    for i in range(len(arr)):\n",
    "        min_idx = i\n",
    "        for j in range(i+1, len(arr)):\n",
    "            if arr[j] < arr[min_idx]:\n",
    "                min_idx = j\n",
    "        arr[i], arr[min_idx] = arr[min_idx], arr[i]\n",
    "    return arr\n",
    "\n",
    "print(selection_sort([64, 25, 12, 22, 11]))"
   ]
  },
  {
   "cell_type": "code",
   "execution_count": 6,
   "id": "558a2421",
   "metadata": {},
   "outputs": [
    {
     "name": "stdout",
     "output_type": "stream",
     "text": [
      "[1, 2, 4, 5, 8]\n"
     ]
    }
   ],
   "source": [
    "# Bubble sort\n",
    "def bubble_sort(arr):\n",
    "    n = len(arr)\n",
    "    for i in range(n):\n",
    "        for j in range(0, n - i - 1):\n",
    "            if arr[j] > arr[j+1]:\n",
    "                arr[j], arr[j+1] = arr[j+1], arr[j]\n",
    "    return arr\n",
    "\n",
    "print(bubble_sort([5, 1, 4, 2, 8]))"
   ]
  },
  {
   "cell_type": "code",
   "execution_count": 7,
   "id": "e2cc9e9d",
   "metadata": {},
   "outputs": [
    {
     "name": "stdout",
     "output_type": "stream",
     "text": [
      "[5, 6, 11, 12, 13]\n"
     ]
    }
   ],
   "source": [
    "# Insertion sort\n",
    "def insertion_sort(arr):\n",
    "    for i in range(1, len(arr)):\n",
    "        key = arr[i]\n",
    "        j = i - 1\n",
    "        while j >=0 and key < arr[j]:\n",
    "            arr[j + 1] = arr[j]\n",
    "            j -= 1\n",
    "        arr[j + 1] = key\n",
    "    return arr\n",
    "\n",
    "print(insertion_sort([12, 11, 13, 5, 6]))"
   ]
  },
  {
   "cell_type": "code",
   "execution_count": 8,
   "id": "bcb1cc7f",
   "metadata": {},
   "outputs": [
    {
     "name": "stdout",
     "output_type": "stream",
     "text": [
      "[1, 1, 2, 3, 6, 8, 10]\n"
     ]
    }
   ],
   "source": [
    "# Quick sort implementation\n",
    "def quick_sort(arr):\n",
    "    if len(arr) <= 1:\n",
    "        return arr\n",
    "    pivot = arr[0]\n",
    "    left = [x for x in arr[1:] if x <= pivot]\n",
    "    right = [x for x in arr[1:] if x > pivot]\n",
    "    return quick_sort(left) + [pivot] + quick_sort(right)\n",
    "\n",
    "print(quick_sort([3, 6, 8, 10, 1, 2, 1]))\n"
   ]
  },
  {
   "cell_type": "code",
   "execution_count": 9,
   "id": "1afc8e5a",
   "metadata": {},
   "outputs": [
    {
     "name": "stdout",
     "output_type": "stream",
     "text": [
      "[3, 9, 10, 27, 38, 43, 82]\n"
     ]
    }
   ],
   "source": [
    "# Merge sort implementation\n",
    "def merge_sort(arr):\n",
    "    if len(arr) > 1:\n",
    "        mid = len(arr)//2\n",
    "        L = arr[:mid]\n",
    "        R = arr[mid:]\n",
    "\n",
    "        merge_sort(L)\n",
    "        merge_sort(R)\n",
    "\n",
    "        i = j = k = 0\n",
    "        while i < len(L) and j < len(R):\n",
    "            if L[i] < R[j]:\n",
    "                arr[k] = L[i]\n",
    "                i += 1\n",
    "            else:\n",
    "                arr[k] = R[j]\n",
    "                j += 1\n",
    "            k += 1\n",
    "\n",
    "        while i < len(L):\n",
    "            arr[k] = L[i]\n",
    "            i += 1\n",
    "            k += 1\n",
    "\n",
    "        while j < len(R):\n",
    "            arr[k] = R[j]\n",
    "            j += 1\n",
    "            k += 1\n",
    "\n",
    "arr = [38, 27, 43, 3, 9, 82, 10]\n",
    "merge_sort(arr)\n",
    "print(arr)"
   ]
  },
  {
   "cell_type": "code",
   "execution_count": null,
   "id": "b96c4d60",
   "metadata": {},
   "outputs": [],
   "source": []
  },
  {
   "cell_type": "code",
   "execution_count": null,
   "id": "d4f22e1d",
   "metadata": {},
   "outputs": [],
   "source": []
  },
  {
   "cell_type": "code",
   "execution_count": null,
   "id": "98082a09",
   "metadata": {},
   "outputs": [],
   "source": []
  },
  {
   "cell_type": "code",
   "execution_count": null,
   "id": "24da71bd",
   "metadata": {},
   "outputs": [],
   "source": []
  }
 ],
 "metadata": {
  "kernelspec": {
   "display_name": "myvenv",
   "language": "python",
   "name": "python3"
  },
  "language_info": {
   "codemirror_mode": {
    "name": "ipython",
    "version": 3
   },
   "file_extension": ".py",
   "mimetype": "text/x-python",
   "name": "python",
   "nbconvert_exporter": "python",
   "pygments_lexer": "ipython3",
   "version": "3.9.13"
  }
 },
 "nbformat": 4,
 "nbformat_minor": 5
}
