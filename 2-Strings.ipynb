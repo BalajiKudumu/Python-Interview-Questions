{
 "cells": [
  {
   "cell_type": "markdown",
   "id": "90c180d8",
   "metadata": {},
   "source": [
    "## 2. Strings"
   ]
  },
  {
   "cell_type": "code",
   "execution_count": 1,
   "id": "3729578f",
   "metadata": {},
   "outputs": [
    {
     "name": "stdout",
     "output_type": "stream",
     "text": [
      "ASCII value: 65\n"
     ]
    }
   ],
   "source": [
    "# Print the ASCII value of a character.\n",
    "ch = 'A'\n",
    "print(\"ASCII value:\", ord(ch))"
   ]
  },
  {
   "cell_type": "code",
   "execution_count": 2,
   "id": "7d20cd6d",
   "metadata": {},
   "outputs": [
    {
     "name": "stdout",
     "output_type": "stream",
     "text": [
      "helloworld\n"
     ]
    }
   ],
   "source": [
    "\n",
    "# Remove spaces from string.\n",
    "s = \"hello world\"\n",
    "print(s.replace(\" \", \"\"))"
   ]
  },
  {
   "cell_type": "code",
   "execution_count": 3,
   "id": "ea838df5",
   "metadata": {},
   "outputs": [
    {
     "name": "stdout",
     "output_type": "stream",
     "text": [
      "Digits only\n"
     ]
    }
   ],
   "source": [
    "# Check if string contains only digits\n",
    "s = \"12345\"\n",
    "print(\"Digits only\" if s.isdigit() else \"Contains non-digit\")"
   ]
  },
  {
   "cell_type": "code",
   "execution_count": 4,
   "id": "ae7be493",
   "metadata": {},
   "outputs": [
    {
     "name": "stdout",
     "output_type": "stream",
     "text": [
      "world hello\n"
     ]
    }
   ],
   "source": [
    "# Reverse words in sentence\n",
    "s = \"hello world\"\n",
    "print(\" \".join(s.split()[::-1]))"
   ]
  },
  {
   "cell_type": "code",
   "execution_count": 5,
   "id": "ea48e7f7",
   "metadata": {},
   "outputs": [
    {
     "name": "stdout",
     "output_type": "stream",
     "text": [
      "True\n"
     ]
    }
   ],
   "source": [
    "# Check if string is title case\n",
    "s = \"Hello World\"\n",
    "print(s.istitle())"
   ]
  },
  {
   "cell_type": "code",
   "execution_count": 6,
   "id": "7d342859",
   "metadata": {},
   "outputs": [
    {
     "name": "stdout",
     "output_type": "stream",
     "text": [
      "True\n"
     ]
    }
   ],
   "source": [
    "# Check if string is pangram\n",
    "import string\n",
    "s = \"The quick brown fox jumps over the lazy dog\"\n",
    "print(set(string.ascii_lowercase).issubset(s.lower()))"
   ]
  },
  {
   "cell_type": "code",
   "execution_count": 7,
   "id": "8302a03b",
   "metadata": {},
   "outputs": [
    {
     "name": "stdout",
     "output_type": "stream",
     "text": [
      "Palindrome\n"
     ]
    }
   ],
   "source": [
    "# Check palindrome string.\n",
    "s = \"madam\"\n",
    "if s == s[::-1]:\n",
    "    print(\"Palindrome\")\n",
    "else:\n",
    "    print(\"Not Palindrome\")"
   ]
  },
  {
   "cell_type": "code",
   "execution_count": 8,
   "id": "3783da24",
   "metadata": {},
   "outputs": [
    {
     "name": "stdout",
     "output_type": "stream",
     "text": [
      "Word count: 5\n"
     ]
    }
   ],
   "source": [
    "# Count words in a sentence\n",
    "s = \"hello world this is python\"\n",
    "words = s.split()\n",
    "print(\"Word count:\", len(words))"
   ]
  },
  {
   "cell_type": "code",
   "execution_count": 9,
   "id": "f3becc3d",
   "metadata": {},
   "outputs": [
    {
     "name": "stdout",
     "output_type": "stream",
     "text": [
      "sentence\n"
     ]
    }
   ],
   "source": [
    "# Find longest word in sentence\n",
    "s = \"This is a sample sentence\"\n",
    "longest = max(s.split(), key=len)\n",
    "print(longest)\n"
   ]
  },
  {
   "cell_type": "code",
   "execution_count": null,
   "id": "3b862932",
   "metadata": {},
   "outputs": [],
   "source": []
  },
  {
   "cell_type": "code",
   "execution_count": null,
   "id": "be63580b",
   "metadata": {},
   "outputs": [],
   "source": []
  },
  {
   "cell_type": "code",
   "execution_count": null,
   "id": "622cc12f",
   "metadata": {},
   "outputs": [],
   "source": []
  }
 ],
 "metadata": {
  "kernelspec": {
   "display_name": "myvenv",
   "language": "python",
   "name": "python3"
  },
  "language_info": {
   "codemirror_mode": {
    "name": "ipython",
    "version": 3
   },
   "file_extension": ".py",
   "mimetype": "text/x-python",
   "name": "python",
   "nbconvert_exporter": "python",
   "pygments_lexer": "ipython3",
   "version": "3.9.13"
  }
 },
 "nbformat": 4,
 "nbformat_minor": 5
}
